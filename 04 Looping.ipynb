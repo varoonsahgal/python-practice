{
 "cells": [
  {
   "cell_type": "markdown",
   "metadata": {
    "slideshow": {
     "slide_type": "slide"
    }
   },
   "source": [
    "# Python Loops"
   ]
  },
  {
   "cell_type": "markdown",
   "metadata": {
    "slideshow": {
     "slide_type": "subslide"
    }
   },
   "source": [
    "## Two types of __`for`__ loops\n",
    "* iterating through a numeric range\n",
    "* iterating through a container\n",
    "* C-style for loop (`for (c = 0; c < 10; c++)`) is not supported"
   ]
  },
  {
   "cell_type": "code",
   "execution_count": 2,
   "metadata": {},
   "outputs": [
    {
     "name": "stdout",
     "output_type": "stream",
     "text": [
      "0 1 2 3 4 5 6 7 8 9 10 11 12 13 14 15 16 17 18 19 20 21 22 23 24 "
     ]
    }
   ],
   "source": [
    "for num in range(25):\n",
    "    print(num, end=' ') # what if we don't use end?"
   ]
  },
  {
   "cell_type": "code",
   "execution_count": 2,
   "metadata": {},
   "outputs": [
    {
     "name": "stdout",
     "output_type": "stream",
     "text": [
      "small\n",
      "medium\n",
      "large\n"
     ]
    }
   ],
   "source": [
    "mylist = 'small medium large'.split()\n",
    "for size in mylist:\n",
    "    print(size)"
   ]
  },
  {
   "cell_type": "markdown",
   "metadata": {},
   "source": [
    "## Looping over strings\n",
    "\n",
    "* Able to loop over strings as well\n",
    "* Allows processing character-by-character"
   ]
  },
  {
   "cell_type": "code",
   "execution_count": 3,
   "metadata": {},
   "outputs": [
    {
     "name": "stdout",
     "output_type": "stream",
     "text": [
      "C-o-l-o-n-e-l- -S-a-n-d-e-r-s-"
     ]
    }
   ],
   "source": [
    "name = 'Colonel Sanders'\n",
    "for c in name:\n",
    "    print(c, end = '-')"
   ]
  },
  {
   "cell_type": "markdown",
   "metadata": {},
   "source": [
    "## `break` and `continue`\n",
    "\n",
    "* In some cases, you may want to \"short-circuit\" a loop (or an iteration)\n",
    "* `break` can be used to exit from a loop, moving to statements beyond\n",
    "* `continue` can be used to exit from an iteration of a loop, moving to next iteration"
   ]
  },
  {
   "cell_type": "code",
   "execution_count": 3,
   "metadata": {},
   "outputs": [
    {
     "name": "stdout",
     "output_type": "stream",
     "text": [
      "Star Wars\n",
      "The Goonies\n",
      "The Godfather the GOAT\n",
      "Wizard of Oz\n"
     ]
    }
   ],
   "source": [
    "movies = ['Star Wars', 'The Goonies', 'The Godfather', 'Wizard of Oz', 'Dumb & Dumber', 'Forest Gump']\n",
    "for movie in movies:\n",
    "    if movie == 'The Godfather':\n",
    "        print(movie, 'the GOAT')\n",
    "        continue\n",
    "    elif movie == 'Dumb & Dumber':\n",
    "        break\n",
    "    else:\n",
    "        print(movie)"
   ]
  },
  {
   "cell_type": "markdown",
   "metadata": {},
   "source": [
    "## `range` function\n",
    "\n",
    "* To iterate over numbers in a sequence, can use a list specifying each number\n",
    "* Alternatively, you can use `range()` as a shortcut\n",
    "* Format is `range([s, ]e[, step])`\n",
    "* Starting value and step are optional\n",
    "* Starting value defaults to 0 if not included\n",
    "* If step is omitted, increments by 1; otherwise, increments by provided step\n",
    "* Resulting list will include values from starting value up to, but not including, ending value"
   ]
  },
  {
   "cell_type": "code",
   "execution_count": 4,
   "metadata": {},
   "outputs": [
    {
     "name": "stdout",
     "output_type": "stream",
     "text": [
      "01234\n",
      "01234\n",
      "23456789\n",
      "0369\n"
     ]
    }
   ],
   "source": [
    "for num in [0, 1, 2, 3, 4]:\n",
    "    print(num, end = '')\n",
    "print()\n",
    "for num in range(5):\n",
    "    print (num, end = '')\n",
    "print()\n",
    "for num in range(2, 10):\n",
    "    print(num, end = '')\n",
    "print()\n",
    "for num in range(0, 10, 3):\n",
    "    print(num, end = '')\n",
    "print()\n"
   ]
  },
  {
   "cell_type": "markdown",
   "metadata": {},
   "source": [
    "## `else` \n",
    "\n",
    "* Can use an `else` statement to define code to be executed on completion of the loop\n",
    "* If you break out of the loop, the `else` won't get executed"
   ]
  },
  {
   "cell_type": "code",
   "execution_count": 6,
   "metadata": {},
   "outputs": [
    {
     "name": "stdout",
     "output_type": "stream",
     "text": [
      "01234\n",
      "01234\n",
      "23456789\n",
      "0369\n"
     ]
    }
   ],
   "source": [
    "for num in [0, 1, 2, 3, 4]:\n",
    "    print(num, end = '')\n",
    "else:\n",
    "    print()\n",
    "for num in range(5):\n",
    "    print (num, end = '')\n",
    "else:\n",
    "    print()\n",
    "for num in range(2, 10):\n",
    "    print(num, end = '')\n",
    "else:\n",
    "    print()\n",
    "for num in range(0, 10, 3):\n",
    "    print(num, end = '')\n",
    "else:\n",
    "    print()"
   ]
  },
  {
   "cell_type": "markdown",
   "metadata": {},
   "source": [
    "## `while` loop\n",
    "\n",
    "* `for` is known as what's called a \"definite iteration\" (set number)\n",
    "* `while` can be used to loop while a condition remains true\n",
    "* Something in the loop code must be used to move to completion"
   ]
  },
  {
   "cell_type": "code",
   "execution_count": 5,
   "metadata": {},
   "outputs": [
    {
     "name": "stdout",
     "output_type": "stream",
     "text": [
      "Principal amount: 1000\n",
      "Interest rate: 5\n",
      "Number of years: 5\n",
      "  1\t$1,050.00\n",
      "  2\t$1,102.50\n",
      "  3\t$1,157.62\n",
      "  4\t$1,215.51\n",
      "  5\t$1,276.28\n"
     ]
    }
   ],
   "source": [
    "principal = float(input('Principal amount: '))\n",
    "interest_rate = float(input('Interest rate: ')) / 100\n",
    "num_years = int(input('Number of years: '))\n",
    "\n",
    "def calc_interest(principal, interest_rate, num_years):\n",
    "    year = 1\n",
    "    while year <= num_years:\n",
    "        principal *= (1 + interest_rate)\n",
    "        print(f'{year:>3d}\\t${principal:,.2f}')\n",
    "        year += 1\n",
    "\n",
    "calc_interest(principal, interest_rate, num_years)"
   ]
  },
  {
   "cell_type": "markdown",
   "metadata": {},
   "source": [
    "## Exercise One\n",
    "\n",
    "Implement a square root function using Newton's method (https://en.wikipedia.org/wiki/Newton's_method):\n",
    "\n",
    "* Prompt the user for input of a positive float\n",
    "* Starting with some guess for the square root of the number input by user, we can adjust it based on how close guess² is to x, producing a better guess: `guess = guess − (guess² − x) / (2 * guess)`\n",
    "* Repeating the above makes the guess better and better\n",
    "* Use a starting guess of 1.0, regardless of the input (it works quite well)\n",
    "* Repeat the calculation 10 times and print each guess along the way\n",
    "\n",
    "EXTRA: Use a loop to enforce data validation on the input (verify that it is positive)"
   ]
  },
  {
   "cell_type": "markdown",
   "metadata": {},
   "source": [
    "## Exercise Two\n",
    "\n",
    "Implement a factorial function (`n! = n * (n - 1) * ... * 1`):\n",
    "\n",
    "* Prompt the user for input of a non-negative integer\n",
    "* Using a loop, calculate the factorial of the provided integer (using formula above)\n",
    "* Output the result\n",
    "\n",
    "EXTRA: Use a loop to enforce data validation on the input (verify that is non-negative)"
   ]
  },
  {
   "cell_type": "markdown",
   "metadata": {},
   "source": [
    "## Exercise Three\n",
    "\n",
    "Write a function which implements the Collatz Conjecture (https://en.wikipedia.org/wiki/Collatz_conjecture):\n",
    "\n",
    "* It should accept an integer >= 1 (return false if < 1)\n",
    "* If it's even, divide it by 2\n",
    "* If it's odd, multiply it by 3 and add 1\n",
    "* Stop when the the result is 1\n",
    "* Return true for success (i.e. when you reach 1)\n",
    "* Output the result of each step in sequence and the total count of steps taken to get to 1"
   ]
  }
 ],
 "metadata": {
  "celltoolbar": "Slideshow",
  "interpreter": {
   "hash": "8464311b6cd02531cc83d752491de256d0b522e7c388c7b72d58a29deff5d2dd"
  },
  "kernelspec": {
   "display_name": "Python 3 (ipykernel)",
   "language": "python",
   "name": "python3"
  },
  "language_info": {
   "codemirror_mode": {
    "name": "ipython",
    "version": 3
   },
   "file_extension": ".py",
   "mimetype": "text/x-python",
   "name": "python",
   "nbconvert_exporter": "python",
   "pygments_lexer": "ipython3",
   "version": "3.8.10"
  }
 },
 "nbformat": 4,
 "nbformat_minor": 1
}
