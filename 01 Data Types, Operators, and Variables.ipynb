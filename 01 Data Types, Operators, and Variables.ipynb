{
 "cells": [
  {
   "cell_type": "markdown",
   "metadata": {
    "slideshow": {
     "slide_type": "slide"
    }
   },
   "source": [
    "#### ![alt-text](DILogo.jpg \"logo\")"
   ]
  },
  {
   "cell_type": "markdown",
   "metadata": {
    "collapsed": true,
    "slideshow": {
     "slide_type": "subslide"
    }
   },
   "source": [
    "## Intermediate Python\n",
    "\n",
    "## Allen Sanders  \n",
    "## asanders@gamuttechnologysvcs.com  \n",
    "\n"
   ]
  },
  {
   "cell_type": "markdown",
   "metadata": {
    "slideshow": {
     "slide_type": "subslide"
    }
   },
   "source": [
    "# Before we begin, be sure you have Python 3 installed!\n",
    "1. Install Python 3 if you have not already\n",
    " * go to https://www.python.org/downloads/\n",
    "1. Install Visual Studio Code if not already installed\n",
    " * go to https://code.visualstudio.com/Download\n",
    "1. Install Python extension in VS Code"
   ]
  },
  {
   "cell_type": "markdown",
   "metadata": {
    "slideshow": {
     "slide_type": "slide"
    }
   },
   "source": [
    "# Data Types, Operators, and Variables"
   ]
  },
  {
   "cell_type": "markdown",
   "metadata": {},
   "source": [
    "## Primitives and expressions\n",
    "\n",
    " * Python provides a collection of primitive types\n",
    " * Base types like integers, floats, strings, and bools\n",
    " * Using operators, can also build out expressions to combine data in interesting ways"
   ]
  },
  {
   "cell_type": "code",
   "execution_count": 3,
   "metadata": {},
   "outputs": [
    {
     "name": "stdout",
     "output_type": "stream",
     "text": [
      "19992323329\n",
      "1.99\n",
      "199\n",
      "False\n"
     ]
    }
   ],
   "source": [
    "print(19992323329)      # int\n",
    "print(1.99)     # float\n",
    "print('199')    # str\n",
    "print(False)    # bool"
   ]
  },
  {
   "cell_type": "code",
   "execution_count": 2,
   "metadata": {},
   "outputs": [
    {
     "name": "stdout",
     "output_type": "stream",
     "text": [
      "19\n",
      "22\n"
     ]
    }
   ],
   "source": [
    "print(3 + 8 * 2)\n",
    "print((3 + 8) * 2)"
   ]
  },
  {
   "cell_type": "markdown",
   "metadata": {},
   "source": [
    "## Arithmetic Operators\n",
    "\n",
    "| Operation     | Description                       |\n",
    "|---------------|-------------------                |\n",
    "|  a + b        |   Addition                        |\n",
    "|  a - b        |   Subtraction                     |\n",
    "|  a * b        |   Multiplication                  |\n",
    "|  a / b        |   Division                        |\n",
    "|  a // b       |   Truncating Division             |\n",
    "|  a ** b       |   Power (a raised to power of b)  |\n",
    "|  a % b        |   Modulo (remainder)              |\n",
    "|  -a           |   Unary minus                     |\n",
    "|  +a           |   Unary plus                      |"
   ]
  },
  {
   "cell_type": "code",
   "execution_count": 3,
   "metadata": {},
   "outputs": [
    {
     "name": "stdout",
     "output_type": "stream",
     "text": [
      "3.6666666666666665\n",
      "3\n",
      "3.9464882943143813\n",
      "3.0\n",
      "1331\n",
      "2\n",
      "4\n",
      "-4\n"
     ]
    }
   ],
   "source": [
    "a = 11\n",
    "b = 3\n",
    "c = -4\n",
    "d = 11.8\n",
    "e = 2.99\n",
    "print(a / b)        # produces floating point number\n",
    "print(a // b)       # floor division - truncates\n",
    "print(d / e)\n",
    "print(d // e)\n",
    "print(a ** b)\n",
    "print(a % b)\n",
    "print(-c)\n",
    "print(+c)"
   ]
  },
  {
   "cell_type": "markdown",
   "metadata": {},
   "source": [
    "## Common mathematic functions\n",
    "\n",
    "| Function                    | Description                       |\n",
    "|---------------              |-------------------                |\n",
    "|  abs(x)                     |   Absolute value                  |\n",
    "|  divmod(x, y)               |   Returns (x // y, x % y)         |\n",
    "|  pow(x, y)                  |   Same as (x ** y)                |\n",
    "|  round(x)                   |   Round (uses \"banker's rounding\")|"
   ]
  },
  {
   "cell_type": "code",
   "execution_count": 4,
   "metadata": {},
   "outputs": [
    {
     "name": "stdout",
     "output_type": "stream",
     "text": [
      "18\n",
      "(3, 2)\n",
      "1331\n",
      "0\n",
      "2\n",
      "2\n",
      "4\n"
     ]
    }
   ],
   "source": [
    "x = 11\n",
    "y = 3\n",
    "z = -18\n",
    "a = 0.5\n",
    "b = 1.5\n",
    "c = 2.5\n",
    "d = 3.5\n",
    "print(abs(z))\n",
    "print(divmod(x, y))\n",
    "print(pow(x, y))\n",
    "print(round(a))\n",
    "print(round(b))\n",
    "print(round(c))     # banker's rounding - round to nearest even multiple\n",
    "print(round(d))"
   ]
  },
  {
   "cell_type": "markdown",
   "metadata": {},
   "source": [
    "## Shortcut operators\n",
    "\n",
    " * Allows `h = h + 1` to be shortened to `h += 1`\n",
    " * Supported for many of the operators discussed previously\n",
    " * Python does not have an increment (++) or decrement (--) operator"
   ]
  },
  {
   "cell_type": "markdown",
   "metadata": {
    "slideshow": {
     "slide_type": "subslide"
    }
   },
   "source": [
    "## *Dynamic* typing, no declarations"
   ]
  },
  {
   "cell_type": "code",
   "execution_count": 5,
   "metadata": {},
   "outputs": [
    {
     "name": "stdout",
     "output_type": "stream",
     "text": [
      "3.9\n",
      "Python\n"
     ]
    }
   ],
   "source": [
    "x:int = 4.3\n",
    "print(x)\n",
    "x = \"Python\"    # more likely to see this version\n",
    "print(x)"
   ]
  },
  {
   "cell_type": "markdown",
   "metadata": {
    "slideshow": {
     "slide_type": "subslide"
    }
   },
   "source": [
    "## ...but strongly typed"
   ]
  },
  {
   "cell_type": "code",
   "execution_count": 6,
   "metadata": {},
   "outputs": [
    {
     "ename": "TypeError",
     "evalue": "can only concatenate str (not \"int\") to str",
     "output_type": "error",
     "traceback": [
      "\u001b[0;31m---------------------------------------------------------------------------\u001b[0m",
      "\u001b[0;31mTypeError\u001b[0m                                 Traceback (most recent call last)",
      "\u001b[0;32m/tmp/ipykernel_5017/297019856.py\u001b[0m in \u001b[0;36m<module>\u001b[0;34m\u001b[0m\n\u001b[1;32m      1\u001b[0m \u001b[0mx\u001b[0m \u001b[0;34m=\u001b[0m \u001b[0;34m'hello'\u001b[0m\u001b[0;34m\u001b[0m\u001b[0;34m\u001b[0m\u001b[0m\n\u001b[0;32m----> 2\u001b[0;31m \u001b[0my\u001b[0m \u001b[0;34m=\u001b[0m \u001b[0mx\u001b[0m \u001b[0;34m+\u001b[0m \u001b[0;36m1\u001b[0m\u001b[0;34m\u001b[0m\u001b[0;34m\u001b[0m\u001b[0m\n\u001b[0m\u001b[1;32m      3\u001b[0m \u001b[0my\u001b[0m\u001b[0;34m\u001b[0m\u001b[0;34m\u001b[0m\u001b[0m\n",
      "\u001b[0;31mTypeError\u001b[0m: can only concatenate str (not \"int\") to str"
     ]
    }
   ],
   "source": [
    "x = 'hello'\n",
    "y = x + 1\n",
    "y"
   ]
  },
  {
   "cell_type": "code",
   "execution_count": 7,
   "metadata": {
    "slideshow": {
     "slide_type": "-"
    }
   },
   "outputs": [
    {
     "name": "stdout",
     "output_type": "stream",
     "text": [
      "3\n"
     ]
    },
    {
     "ename": "TypeError",
     "evalue": "can only concatenate str (not \"int\") to str",
     "output_type": "error",
     "traceback": [
      "\u001b[0;31m---------------------------------------------------------------------------\u001b[0m",
      "\u001b[0;31mTypeError\u001b[0m                                 Traceback (most recent call last)",
      "\u001b[0;32m/tmp/ipykernel_5017/3567252731.py\u001b[0m in \u001b[0;36m<module>\u001b[0;34m\u001b[0m\n\u001b[1;32m      3\u001b[0m \u001b[0;34m\u001b[0m\u001b[0m\n\u001b[1;32m      4\u001b[0m \u001b[0mprint\u001b[0m\u001b[0;34m(\u001b[0m\u001b[0mfunc\u001b[0m\u001b[0;34m(\u001b[0m\u001b[0;36m2\u001b[0m\u001b[0;34m)\u001b[0m\u001b[0;34m)\u001b[0m\u001b[0;34m\u001b[0m\u001b[0;34m\u001b[0m\u001b[0m\n\u001b[0;32m----> 5\u001b[0;31m \u001b[0mprint\u001b[0m\u001b[0;34m(\u001b[0m\u001b[0mfunc\u001b[0m\u001b[0;34m(\u001b[0m\u001b[0;34m'hi'\u001b[0m\u001b[0;34m)\u001b[0m\u001b[0;34m)\u001b[0m\u001b[0;34m\u001b[0m\u001b[0;34m\u001b[0m\u001b[0m\n\u001b[0m",
      "\u001b[0;32m/tmp/ipykernel_5017/3567252731.py\u001b[0m in \u001b[0;36mfunc\u001b[0;34m(arg)\u001b[0m\n\u001b[1;32m      1\u001b[0m \u001b[0;32mdef\u001b[0m \u001b[0mfunc\u001b[0m\u001b[0;34m(\u001b[0m\u001b[0marg\u001b[0m\u001b[0;34m)\u001b[0m\u001b[0;34m:\u001b[0m\u001b[0;34m\u001b[0m\u001b[0;34m\u001b[0m\u001b[0m\n\u001b[0;32m----> 2\u001b[0;31m     \u001b[0;32mreturn\u001b[0m \u001b[0marg\u001b[0m \u001b[0;34m+\u001b[0m \u001b[0;36m1\u001b[0m\u001b[0;34m\u001b[0m\u001b[0;34m\u001b[0m\u001b[0m\n\u001b[0m\u001b[1;32m      3\u001b[0m \u001b[0;34m\u001b[0m\u001b[0m\n\u001b[1;32m      4\u001b[0m \u001b[0mprint\u001b[0m\u001b[0;34m(\u001b[0m\u001b[0mfunc\u001b[0m\u001b[0;34m(\u001b[0m\u001b[0;36m2\u001b[0m\u001b[0;34m)\u001b[0m\u001b[0;34m)\u001b[0m\u001b[0;34m\u001b[0m\u001b[0;34m\u001b[0m\u001b[0m\n\u001b[1;32m      5\u001b[0m \u001b[0mprint\u001b[0m\u001b[0;34m(\u001b[0m\u001b[0mfunc\u001b[0m\u001b[0;34m(\u001b[0m\u001b[0;34m'hi'\u001b[0m\u001b[0;34m)\u001b[0m\u001b[0;34m)\u001b[0m\u001b[0;34m\u001b[0m\u001b[0;34m\u001b[0m\u001b[0m\n",
      "\u001b[0;31mTypeError\u001b[0m: can only concatenate str (not \"int\") to str"
     ]
    }
   ],
   "source": [
    "def func(arg):\n",
    "    return arg + 1\n",
    "\n",
    "print(func(2))\n",
    "print(func('hi'))"
   ]
  },
  {
   "cell_type": "markdown",
   "metadata": {
    "slideshow": {
     "slide_type": "subslide"
    }
   },
   "source": [
    "## Console input and output\n",
    "\n",
    " * To print output to the console, you can use the `print` command\n",
    " * To accept input from the consle, you can use the `input` command\n",
    " * An *f-string* can be used to format output\n",
    "\n",
    " See https://zetcode.com/python/fstring/#:~:text=Python%20f-string%20is%20the%20newest%20Python%20syntax%20to,prefix%20and%20use%20%7B%7D%20brackets%20to%20evaluate%20values."
   ]
  },
  {
   "cell_type": "code",
   "execution_count": 11,
   "metadata": {},
   "outputs": [
    {
     "name": "stdout",
     "output_type": "stream",
     "text": [
      "How many are you purchasing? 12\n",
      "What is the unit cost? 1.99\n",
      "Total (without tax): $ 23.88\n",
      "Total (with tax): $25.67\n"
     ]
    }
   ],
   "source": [
    "tax_rate = 0.075\n",
    "quantity = int(input('How many are you purchasing? '))\n",
    "cost = float(input('What is the unit cost? '))\n",
    "total = quantity * cost\n",
    "print(f'Total (without tax): ${total:,.2f}')\n",
    "print(f'Total (with tax): ${total * (1 + tax_rate):,.2f}')"
   ]
  },
  {
   "cell_type": "markdown",
   "metadata": {
    "slideshow": {
     "slide_type": "subslide"
    }
   },
   "source": [
    "## Text strings\n",
    "\n",
    " * To define a string literal, can enclose in single, double, or triple quotes\n",
    " * Same type of quote used to start the string must be used to terminate it\n",
    " * Strings using single and double quotes must be limited to single logical line\n",
    " * Triple-quoted strings allows text to span multiple lines"
   ]
  },
  {
   "cell_type": "code",
   "execution_count": 1,
   "metadata": {},
   "outputs": [
    {
     "name": "stdout",
     "output_type": "stream",
     "text": [
      "Name: Allen Sanders\n",
      "Favorite Color: red\n",
      "Favorite Food: ice cream\n",
      "Favorite Movie: The Godfather\n",
      "This is line one\n",
      "\n",
      "This is line two\n",
      "\n",
      "This is line three\n"
     ]
    }
   ],
   "source": [
    "name = 'Allen Sanders'\n",
    "fav_color = \"red\"\n",
    "fav_food = '''ice cream'''\n",
    "fav_movie = \"\"\"The Godfather\"\"\"\n",
    "multi_line = '''This is line one\n",
    "\n",
    "This is line two\n",
    "\n",
    "This is line three'''\n",
    "\n",
    "print('Name:', name)\n",
    "print('Favorite Color:', fav_color)\n",
    "print('Favorite Food:', fav_food)\n",
    "print('Favorite Movie:', fav_movie)\n",
    "print(multi_line)"
   ]
  },
  {
   "cell_type": "markdown",
   "metadata": {},
   "source": [
    "## String operations\n",
    "\n",
    " * String stored as sequence of Unicode characters\n",
    " * Can be concatenated with `+`\n",
    " * Individual characters can be accessed using 0-based integer index\n",
    " * Multiple methods available for working with strings\n",
    "\n",
    "| Method                                | Description                       |\n",
    "|---------------                        |-------------------                |\n",
    "|  s.startswith(val[, start[, end]])   |   Checks whether string s starts with \"val\"        |\n",
    "|  s.endswith(val[, start[, end]])   |   Checks whether string s ends with \"val\"        |\n",
    "|  s.find(sub[, start[, end]])       |   Finds 1st occurrence of \"sub\" in string s or returns -1 if not found        |\n",
    "|  s.replace(old, new[, maxreplace]) |   Replaces substring \"old\" with \"new\" |\n",
    "|  s.split([sep[, maxsplit]])        |   Splits string s using separator \"sep\" |\n",
    "|  s.strip([chars])                  |   Removes leading/trailing spaces of \"chars\" value from string  |\n",
    "|  s.lower() | Converts string s to lowercase |\n",
    "|  s.upper() | Converts string s to uppercase |"
   ]
  },
  {
   "cell_type": "code",
   "execution_count": 1,
   "metadata": {},
   "outputs": [
    {
     "name": "stdout",
     "output_type": "stream",
     "text": [
      "True\n",
      "False\n",
      "False\n",
      "2\n",
      "['Hello', 'Worldhhhh']\n"
     ]
    }
   ],
   "source": [
    "s = 'Hello Worldhhhh'\n",
    "print(s.startswith('Hello'))\n",
    "print(s.endswith('world'))\n",
    "print(s.lower().endswith('world'))\n",
    "print(s.find('llo Wor'))\n",
    "print(s.split())"
   ]
  },
  {
   "cell_type": "markdown",
   "metadata": {},
   "source": [
    "## Exercise One\n",
    "\n",
    "* Create a Python program for processing user profile data inputs\n",
    "* Prompt the user for input of the following data values:\n",
    "    - First name\n",
    "    - Last name\n",
    "    - Age\n",
    "    - Number of years of experience in current role\n",
    "    - Job title\n",
    "* Print the provided data to the screen in an organized format (your choice)"
   ]
  },
  {
   "cell_type": "markdown",
   "metadata": {},
   "source": [
    "## Exercise Two\n",
    "\n",
    "* Create a Python program for processing an order\n",
    "* Prompt the user for input of the following data values:\n",
    "    - Part number\n",
    "    - Quantity\n",
    "    - Unit cost\n",
    "    - Discount\n",
    "* Using the provided inputs, calculate subtotal, total including tax, and final total after discount\n",
    "* Print the formatted order detail to the screen"
   ]
  }
 ],
 "metadata": {
  "celltoolbar": "Slideshow",
  "interpreter": {
   "hash": "8464311b6cd02531cc83d752491de256d0b522e7c388c7b72d58a29deff5d2dd"
  },
  "kernelspec": {
   "display_name": "Python 3 (ipykernel)",
   "language": "python",
   "name": "python3"
  },
  "language_info": {
   "codemirror_mode": {
    "name": "ipython",
    "version": 3
   },
   "file_extension": ".py",
   "mimetype": "text/x-python",
   "name": "python",
   "nbconvert_exporter": "python",
   "pygments_lexer": "ipython3",
   "version": "3.8.10"
  }
 },
 "nbformat": 4,
 "nbformat_minor": 1
}
