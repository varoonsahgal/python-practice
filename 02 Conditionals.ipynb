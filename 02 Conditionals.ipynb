{
 "cells": [
  {
   "cell_type": "markdown",
   "metadata": {
    "slideshow": {
     "slide_type": "slide"
    }
   },
   "source": [
    "# Python Conditionals"
   ]
  },
  {
   "cell_type": "markdown",
   "metadata": {
    "slideshow": {
     "slide_type": "subslide"
    }
   },
   "source": [
    "## if/elif/else\n",
    "\n",
    "* No parentheses around condition\n",
    "* `elif` and `else` are optional\n",
    "* Use `:` to indicate start of condition block\n",
    "* Python uses indentation to define blocks and sub-blocks"
   ]
  },
  {
   "cell_type": "code",
   "execution_count": 1,
   "metadata": {},
   "outputs": [
    {
     "name": "stdout",
     "output_type": "stream",
     "text": [
      "hey, x is 1\n",
      "foo\n"
     ]
    }
   ],
   "source": [
    "x = 1\n",
    "\n",
    "if x == 1: # no parens needed around expression\n",
    "    print('hey, x is 1')\n",
    "    print('foo') # notice what happens if we change indentation here?\n",
    "elif x < 10:\n",
    "    print('x is less than 10 and not 1')\n",
    "else:\n",
    "    print('x >= 10')\n",
    "        "
   ]
  },
  {
   "cell_type": "markdown",
   "metadata": {},
   "source": [
    "## Comparison operators\n",
    "\n",
    "| Operation                   | Description                       |\n",
    "|---------------              |-------------------                |\n",
    "|  x == y                     |   Equal to                        |\n",
    "|  x != y                     |   Not equal to                    |\n",
    "|  x < y                      |   Less than                       |\n",
    "|  x > y                      |   Greater than                    |\n",
    "|  x <= y                     |   Less than or equal to           |\n",
    "|  x >= y                     |   Greater than or equal to        |"
   ]
  },
  {
   "cell_type": "markdown",
   "metadata": {},
   "source": [
    "## Logical operators\n",
    "\n",
    "| Operation                   | Description                       |\n",
    "|---------------              |-------------------                |\n",
    "|  x or y                     |   If x is false, return y; otherwise, return x        |\n",
    "|  x and y                    |   If x is false, return x; otherwise, return y        |\n",
    "|  not x                      |   If x is false, return True; otherwise, return False |\n",
    "\n",
    "A value is considered False if it is equal to the value False, None, numerically zero, or empty"
   ]
  },
  {
   "cell_type": "code",
   "execution_count": 2,
   "metadata": {},
   "outputs": [
    {
     "name": "stdout",
     "output_type": "stream",
     "text": [
      "False\n",
      "True\n",
      "None\n",
      "True\n",
      "False\n"
     ]
    }
   ],
   "source": [
    "n = None\n",
    "e = ''\n",
    "z = 0\n",
    "f = False\n",
    "t = True\n",
    "print(n or f)\n",
    "print(t or z)\n",
    "print(n and t)\n",
    "print(not e)\n",
    "print(not t)"
   ]
  },
  {
   "cell_type": "markdown",
   "metadata": {},
   "source": [
    "## Conditional expression\n",
    "\n",
    "* Shortcut for an `if-else` conditional\n",
    "* `result = val1 if val1 < val2 else val2`"
   ]
  },
  {
   "cell_type": "code",
   "execution_count": 2,
   "metadata": {},
   "outputs": [
    {
     "name": "stdout",
     "output_type": "stream",
     "text": [
      "-4.99\n",
      "-4.99\n"
     ]
    }
   ],
   "source": [
    "val1 = 13.88\n",
    "val2 = -4.99\n",
    "result = val1 if val1 < val2 else val2\n",
    "print(result)\n",
    "if val1 < val2:\n",
    "    result = val1\n",
    "else:\n",
    "    result = val2\n",
    "print(result)"
   ]
  },
  {
   "cell_type": "markdown",
   "metadata": {},
   "source": [
    "## \"Walrus\" operator\n",
    "\n",
    "* `:=` (cause it looks like a walrus on its side)\n",
    "* Allows assignment of variable and conditional check in single statement"
   ]
  },
  {
   "cell_type": "code",
   "execution_count": 4,
   "metadata": {},
   "outputs": [
    {
     "name": "stdout",
     "output_type": "stream",
     "text": [
      "100 is large\n"
     ]
    }
   ],
   "source": [
    "if (x := 100) > 50:\n",
    "    print(f'{x} is large')\n",
    "else:\n",
    "    print(f'{x} is small')"
   ]
  },
  {
   "cell_type": "markdown",
   "metadata": {},
   "source": [
    "## Exercise One\n",
    "\n",
    "* Update your Python program for order processing\n",
    "* Instead of prompting for the discount, use the following algorithm to determine amount of discount:\n",
    "    - If quantity purchased is greater than or equal to 50 but less than 100, give the customer a 10% discount\n",
    "    - If quantity purchased is greater than or equal to 100, give the customer a 25% discount\n",
    "    - Otherwise, the customer will receive no discount\n",
    "* Using the provided inputs and logic above, calculate subtotal, total including tax, and final total after discount\n",
    "* Print the formatted order detail to the screen"
   ]
  },
  {
   "cell_type": "markdown",
   "metadata": {},
   "source": [
    "## Exercise Two\n",
    "\n",
    "* Prompt the user for an integer input\n",
    "* Print \"fizz\" if the number is divisible by 3\n",
    "* Print \"buzz\" if the number is divisible by 5\n",
    "* Print \"fizzbuzz\" if the number is divisible by BOTH 3 and 5\n",
    "* Otherwise, print the actual number as input by the user"
   ]
  }
 ],
 "metadata": {
  "celltoolbar": "Slideshow",
  "interpreter": {
   "hash": "8464311b6cd02531cc83d752491de256d0b522e7c388c7b72d58a29deff5d2dd"
  },
  "kernelspec": {
   "display_name": "Python 3 (ipykernel)",
   "language": "python",
   "name": "python3"
  },
  "language_info": {
   "codemirror_mode": {
    "name": "ipython",
    "version": 3
   },
   "file_extension": ".py",
   "mimetype": "text/x-python",
   "name": "python",
   "nbconvert_exporter": "python",
   "pygments_lexer": "ipython3",
   "version": "3.8.10"
  }
 },
 "nbformat": 4,
 "nbformat_minor": 1
}
